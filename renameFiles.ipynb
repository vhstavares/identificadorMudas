{
 "metadata": {
  "language_info": {
   "codemirror_mode": {
    "name": "ipython",
    "version": 3
   },
   "file_extension": ".py",
   "mimetype": "text/x-python",
   "name": "python",
   "nbconvert_exporter": "python",
   "pygments_lexer": "ipython3",
   "version": "3.7.3"
  },
  "orig_nbformat": 2,
  "kernelspec": {
   "name": "pythonjvsc74a57bd0ad3b952ca0d8161b8a7acb8de79e0d658731676491a2a0974f1f7ecfe9fdeb20",
   "display_name": "Python 3.7.3  ('indentificador-env': venv)"
  },
  "metadata": {
   "interpreter": {
    "hash": "ad3b952ca0d8161b8a7acb8de79e0d658731676491a2a0974f1f7ecfe9fdeb20"
   }
  }
 },
 "nbformat": 4,
 "nbformat_minor": 2,
 "cells": [
  {
   "cell_type": "code",
   "execution_count": 1,
   "metadata": {},
   "outputs": [],
   "source": [
    "import os"
   ]
  },
  {
   "cell_type": "code",
   "execution_count": 5,
   "metadata": {},
   "outputs": [],
   "source": [
    "listMudas = ['CARAIBA', 'GUARITA', 'IPE_AMARELO']"
   ]
  },
  {
   "cell_type": "code",
   "execution_count": null,
   "metadata": {},
   "outputs": [],
   "source": [
    "try:\n",
    "    for muda in listMudas:\n",
    "    diretorio = os.path.join('arquivos/train',muda)\n",
    "    lista = os.listdir(diretorio)\n",
    "    for img, i in zip(lista,range(len(lista))):\n",
    "        name = os.path.join(diretorio, img)\n",
    "        newName = os.path.join(diretorio, str(i+1)+'_'+muda)\n",
    "        os.rename(name, newName)\n",
    "except:\n",
    "    pass"
   ]
  }
 ]
}