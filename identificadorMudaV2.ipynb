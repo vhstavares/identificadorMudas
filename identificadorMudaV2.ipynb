{
 "metadata": {
  "language_info": {
   "codemirror_mode": {
    "name": "ipython",
    "version": 3
   },
   "file_extension": ".py",
   "mimetype": "text/x-python",
   "name": "python",
   "nbconvert_exporter": "python",
   "pygments_lexer": "ipython3",
   "version": "3.7.3"
  },
  "orig_nbformat": 2,
  "kernelspec": {
   "name": "pythonjvsc74a57bd0ad3b952ca0d8161b8a7acb8de79e0d658731676491a2a0974f1f7ecfe9fdeb20",
   "display_name": "Python 3.7.3  ('indentificador-env': venv)"
  },
  "metadata": {
   "interpreter": {
    "hash": "ad3b952ca0d8161b8a7acb8de79e0d658731676491a2a0974f1f7ecfe9fdeb20"
   }
  }
 },
 "nbformat": 4,
 "nbformat_minor": 2,
 "cells": [
  {
   "cell_type": "code",
   "execution_count": null,
   "metadata": {},
   "outputs": [],
   "source": []
  }
 ]
}