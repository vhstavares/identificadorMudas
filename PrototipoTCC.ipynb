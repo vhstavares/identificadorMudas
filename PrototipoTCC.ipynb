{
  "nbformat": 4,
  "nbformat_minor": 0,
  "metadata": {
    "colab": {
      "name": "Cópia de PrototipoTCC.ipynb",
      "provenance": [],
      "collapsed_sections": []
    },
    "kernelspec": {
      "name": "python3",
      "display_name": "Python 3"
    },
    "language_info": {
      "name": "python"
    },
    "accelerator": "GPU"
  },
  "cells": [
    {
      "cell_type": "code",
      "metadata": {
        "id": "SGUiaqUrxoNK"
      },
      "source": [
        "import cv2\n",
        "import numpy as np\n",
        "from IPython import get_ipython\n",
        "import matplotlib.pyplot as plt\n",
        "import os\n",
        "import random\n",
        "import gc\n",
        "import seaborn as sns\n",
        "from keras import layers\n",
        "from keras import models\n",
        "from keras import optimizers\n",
        "from keras.preprocessing.image import ImageDataGenerator\n",
        "from sklearn.model_selection import train_test_split"
      ],
      "execution_count": null,
      "outputs": []
    },
    {
      "cell_type": "code",
      "metadata": {
        "id": "s5V6X_NHxv9o"
      },
      "source": [
        "Epocas = 50\n",
        "TotalTreino = 100\n",
        "#Numero de colunas a serem exibidas as imagens\n",
        "columns = 3"
      ],
      "execution_count": null,
      "outputs": []
    },
    {
      "cell_type": "code",
      "metadata": {
        "colab": {
          "base_uri": "https://localhost:8080/"
        },
        "id": "5ji1lDON1B0q",
        "outputId": "5cb6fe26-a283-44a0-dc1b-8e863a130b7e"
      },
      "source": [
        "from google.colab import drive\n",
        "drive.mount('/content/drive/', force_remount=True)"
      ],
      "execution_count": null,
      "outputs": [
        {
          "output_type": "stream",
          "text": [
            "Mounted at /content/drive/\n"
          ],
          "name": "stdout"
        }
      ]
    },
    {
      "cell_type": "code",
      "metadata": {
        "id": "yyHRPk2K2fpB"
      },
      "source": [
        "train_dir = \"/content/drive/MyDrive/tcc/arquivos/train\""
      ],
      "execution_count": null,
      "outputs": []
    },
    {
      "cell_type": "code",
      "metadata": {
        "id": "bjM7bFND4c5T"
      },
      "source": [
        "train_img = []\n",
        "for train in os.listdir(train_dir):\n",
        "  train_muda = [train_dir+\"/\"+train+\"/\"+img for img in os.listdir(train_dir+\"/\"+train)]\n",
        "  train_img += train_muda[:TotalTreino]"
      ],
      "execution_count": null,
      "outputs": []
    },
    {
      "cell_type": "code",
      "metadata": {
        "id": "Kuja8lbQXitw"
      },
      "source": [
        "print(len(train_img))"
      ],
      "execution_count": null,
      "outputs": []
    },
    {
      "cell_type": "code",
      "metadata": {
        "id": "0ETewpKn6VXD"
      },
      "source": [
        "random.shuffle(train_img)"
      ],
      "execution_count": null,
      "outputs": []
    },
    {
      "cell_type": "code",
      "metadata": {
        "id": "tHIaA52x6w45"
      },
      "source": [
        "nrows = 180\n",
        "ncolumns = 120\n",
        "channels = 3  #change to 1 if you want to use grayscale image"
      ],
      "execution_count": null,
      "outputs": []
    },
    {
      "cell_type": "code",
      "metadata": {
        "id": "f6jyb9vL_7Pk"
      },
      "source": [
        "def read_and_process_image(list_of_images):\n",
        "    \"\"\"\n",
        "    Returns two arrays: \n",
        "        X is an array of resized images\n",
        "        y is an array of labels\n",
        "    \"\"\"\n",
        "    X = [] # images\n",
        "    y = [] # labels\n",
        "    \n",
        "    for image in list_of_images:\n",
        "        X.append(cv2.resize(cv2.imread(image, cv2.IMREAD_COLOR), (nrows,ncolumns), interpolation=cv2.INTER_CUBIC))  #Read the image\n",
        "        #get the labels\n",
        "\n",
        "        if 'CARAIBA' in image:\n",
        "            y.append(0)\n",
        "        elif 'GUARITA' in image:\n",
        "            y.append(1)\n",
        "        elif 'IPE_AMARELO' in image:\n",
        "            y.append(2)\n",
        "        \n",
        "        print(len(y))\n",
        "\n",
        "    return X, y"
      ],
      "execution_count": null,
      "outputs": []
    },
    {
      "cell_type": "code",
      "metadata": {
        "id": "okXpbgZHAg5l",
        "colab": {
          "base_uri": "https://localhost:8080/"
        },
        "outputId": "563ce0c7-718c-470a-e25b-6e3c788de7f2"
      },
      "source": [
        "X, y = read_and_process_image(train_img)"
      ],
      "execution_count": null,
      "outputs": [
        {
          "output_type": "stream",
          "text": [
            "1\n",
            "2\n",
            "3\n",
            "4\n",
            "5\n",
            "6\n",
            "7\n",
            "8\n",
            "9\n",
            "10\n",
            "11\n",
            "12\n",
            "13\n",
            "14\n",
            "15\n",
            "16\n",
            "17\n",
            "18\n",
            "19\n",
            "20\n",
            "21\n",
            "22\n",
            "23\n",
            "24\n",
            "25\n",
            "26\n",
            "27\n",
            "28\n",
            "29\n",
            "30\n",
            "31\n",
            "32\n",
            "33\n",
            "34\n",
            "35\n",
            "36\n",
            "37\n",
            "38\n",
            "39\n",
            "40\n",
            "41\n",
            "42\n",
            "43\n",
            "44\n",
            "45\n",
            "46\n",
            "47\n",
            "48\n",
            "49\n",
            "50\n",
            "51\n",
            "52\n",
            "53\n",
            "54\n",
            "55\n",
            "56\n",
            "57\n",
            "58\n",
            "59\n",
            "60\n",
            "61\n",
            "62\n",
            "63\n",
            "64\n",
            "65\n",
            "66\n",
            "67\n",
            "68\n",
            "69\n",
            "70\n",
            "71\n",
            "72\n",
            "73\n",
            "74\n",
            "75\n",
            "76\n",
            "77\n",
            "78\n",
            "79\n",
            "80\n",
            "81\n",
            "82\n",
            "83\n",
            "84\n",
            "85\n",
            "86\n",
            "87\n",
            "88\n",
            "89\n",
            "90\n",
            "91\n",
            "92\n",
            "93\n",
            "94\n",
            "95\n",
            "96\n",
            "97\n",
            "98\n",
            "99\n",
            "100\n",
            "101\n",
            "102\n",
            "103\n",
            "104\n",
            "105\n",
            "106\n",
            "107\n",
            "108\n",
            "109\n",
            "110\n",
            "111\n",
            "112\n",
            "113\n",
            "114\n",
            "115\n",
            "116\n",
            "117\n",
            "118\n",
            "119\n",
            "120\n",
            "121\n",
            "122\n",
            "123\n",
            "124\n",
            "125\n",
            "126\n",
            "127\n",
            "128\n",
            "129\n",
            "130\n",
            "131\n",
            "132\n",
            "133\n",
            "134\n",
            "135\n",
            "136\n",
            "137\n",
            "138\n",
            "139\n",
            "140\n",
            "141\n",
            "142\n",
            "143\n",
            "144\n",
            "145\n",
            "146\n",
            "147\n",
            "148\n",
            "149\n",
            "150\n",
            "151\n",
            "152\n",
            "153\n",
            "154\n",
            "155\n",
            "156\n",
            "157\n",
            "158\n",
            "159\n",
            "160\n",
            "161\n",
            "162\n",
            "163\n",
            "164\n",
            "165\n",
            "166\n",
            "167\n",
            "168\n",
            "169\n",
            "170\n",
            "171\n",
            "172\n",
            "173\n",
            "174\n",
            "175\n",
            "176\n",
            "177\n",
            "178\n",
            "179\n",
            "180\n",
            "181\n",
            "182\n",
            "183\n",
            "184\n",
            "185\n",
            "186\n",
            "187\n",
            "188\n",
            "189\n",
            "190\n",
            "191\n",
            "192\n",
            "193\n",
            "194\n",
            "195\n",
            "196\n",
            "197\n",
            "198\n",
            "199\n",
            "200\n",
            "201\n",
            "202\n",
            "203\n",
            "204\n",
            "205\n",
            "206\n",
            "207\n",
            "208\n",
            "209\n",
            "210\n",
            "211\n",
            "212\n",
            "213\n",
            "214\n",
            "215\n",
            "216\n",
            "217\n",
            "218\n",
            "219\n",
            "220\n",
            "221\n",
            "222\n",
            "223\n",
            "224\n",
            "225\n",
            "226\n",
            "227\n",
            "228\n",
            "229\n",
            "230\n",
            "231\n",
            "232\n",
            "233\n",
            "234\n",
            "235\n",
            "236\n",
            "237\n",
            "238\n",
            "239\n",
            "240\n",
            "241\n",
            "242\n",
            "243\n",
            "244\n",
            "245\n",
            "246\n",
            "247\n",
            "248\n",
            "249\n",
            "250\n",
            "251\n",
            "252\n",
            "253\n",
            "254\n",
            "255\n",
            "256\n",
            "257\n",
            "258\n",
            "259\n",
            "260\n",
            "261\n",
            "262\n",
            "263\n",
            "264\n",
            "265\n",
            "266\n",
            "267\n",
            "268\n",
            "269\n",
            "270\n",
            "271\n",
            "272\n",
            "273\n",
            "274\n",
            "275\n",
            "276\n",
            "277\n",
            "278\n",
            "279\n",
            "280\n",
            "281\n",
            "282\n",
            "283\n",
            "284\n",
            "285\n",
            "286\n",
            "287\n",
            "288\n",
            "289\n",
            "290\n",
            "291\n",
            "292\n",
            "293\n",
            "294\n",
            "295\n",
            "296\n",
            "297\n",
            "298\n",
            "299\n",
            "300\n"
          ],
          "name": "stdout"
        }
      ]
    },
    {
      "cell_type": "code",
      "metadata": {
        "colab": {
          "base_uri": "https://localhost:8080/",
          "height": 352
        },
        "id": "3erX1sjPBORL",
        "outputId": "4f0a8e31-dc23-4682-99d2-8c533dec9fc9"
      },
      "source": [
        "X = np.array(X)\n",
        "y = np.array(y)\n",
        "\n",
        "#Lets plot the label to be sure we just have two class\n",
        "sns.countplot(y)\n",
        "plt.title('Rótulos para mudas:')"
      ],
      "execution_count": null,
      "outputs": [
        {
          "output_type": "stream",
          "text": [
            "/usr/local/lib/python3.7/dist-packages/seaborn/_decorators.py:43: FutureWarning: Pass the following variable as a keyword arg: x. From version 0.12, the only valid positional argument will be `data`, and passing other arguments without an explicit keyword will result in an error or misinterpretation.\n",
            "  FutureWarning\n"
          ],
          "name": "stderr"
        },
        {
          "output_type": "execute_result",
          "data": {
            "text/plain": [
              "Text(0.5, 1.0, 'Rótulos para mudas:')"
            ]
          },
          "metadata": {
            "tags": []
          },
          "execution_count": 64
        },
        {
          "output_type": "display_data",
          "data": {
            "image/png": "[encoded data removed]",
            "text/plain": [
              "<Figure size 432x288 with 1 Axes>"
            ]
          },
          "metadata": {
            "tags": [],
            "needs_background": "light"
          }
        }
      ]
    },
    {
      "cell_type": "code",
      "metadata": {
        "colab": {
          "base_uri": "https://localhost:8080/"
        },
        "id": "MrehL6c5BXTs",
        "outputId": "673e2f8f-1923-4147-b8d4-972ebd81e3bc"
      },
      "source": [
        "X_train, X_val, y_train, y_val = train_test_split(X, y, test_size=0.20, random_state=2)\n",
        "\n",
        "print(\"Shape of train images is:\", X_train.shape)\n",
        "print(\"Shape of validation images is:\", X_val.shape)\n",
        "print(\"Shape of labels is:\", y_train.shape)\n",
        "print(\"Shape of labels is:\", y_val.shape)"
      ],
      "execution_count": null,
      "outputs": [
        {
          "output_type": "stream",
          "text": [
            "Shape of train images is: (240, 120, 180, 3)\n",
            "Shape of validation images is: (60, 120, 180, 3)\n",
            "Shape of labels is: (240,)\n",
            "Shape of labels is: (60,)\n"
          ],
          "name": "stdout"
        }
      ]
    },
    {
      "cell_type": "code",
      "metadata": {
        "colab": {
          "base_uri": "https://localhost:8080/"
        },
        "id": "p8k8W0kmBgB2",
        "outputId": "580e612a-d1d2-47b0-eada-9b67f7f60112"
      },
      "source": [
        "ntrain = len(X_train)\n",
        "nval = len(X_val)\n",
        "\n",
        "#We will use a batch size of 32. Note: batch size should be a factor of 2.***4,8,16,32,64...***\n",
        "batch_size = 16\n",
        "\n",
        "print(ntrain, nval)"
      ],
      "execution_count": null,
      "outputs": [
        {
          "output_type": "stream",
          "text": [
            "240 60\n"
          ],
          "name": "stdout"
        }
      ]
    },
    {
      "cell_type": "code",
      "metadata": {
        "colab": {
          "base_uri": "https://localhost:8080/"
        },
        "id": "g2geFkBBCZIU",
        "outputId": "3ed165f9-70c1-4b29-f8b2-48b8bbec6996"
      },
      "source": [
        "import tensorflow as tf\n",
        "\n",
        "from tensorflow import keras\n",
        "from tensorflow.keras import layers,losses\n",
        "from tensorflow.keras.models import Sequential\n",
        "\n",
        "num_classes = 3\n",
        "#layers.experimental.preprocessing.Rescaling(1./255, input_shape=(180, 180, 3)),\n",
        "model = Sequential([\n",
        "  #layers.experimental.preprocessing.Rescaling(1./255, input_shape=(180, 180, 3)),\n",
        "  layers.Conv2D(32, (3, 3), activation='relu', input_shape=(180, 120, 3)),\n",
        "  layers.MaxPooling2D((2, 2)),\n",
        "  layers.Conv2D(32, (3, 3), activation='relu', input_shape=(180, 120, 3)),\n",
        "  layers.MaxPooling2D((2, 2)),\n",
        "  layers.Conv2D(64, (3, 3),  activation='relu'),\n",
        "  layers.MaxPooling2D((2, 2)),\n",
        "  layers.Conv2D(128, (3, 3),  activation='relu'),\n",
        "  layers.MaxPooling2D((2, 2)),\n",
        "  layers.Conv2D(128, (3, 3),  activation='relu'),\n",
        "  layers.MaxPooling2D((2, 2)),\n",
        "  layers.Flatten(),\n",
        "  layers.Dense(512, activation='relu'),\n",
        "  layers.Dense(num_classes, activation='softmax')\n",
        "])\n",
        "\n",
        "#Lets see our model\n",
        "model.summary()\n",
        "#softmax\n",
        "\n",
        "model.compile(optimizer='adam',\n",
        "              loss='sparse_categorical_crossentropy',\n",
        "              metrics=['accuracy'])"
      ],
      "execution_count": null,
      "outputs": [
        {
          "output_type": "stream",
          "text": [
            "Model: \"sequential_18\"\n",
            "_________________________________________________________________\n",
            "Layer (type)                 Output Shape              Param #   \n",
            "=================================================================\n",
            "conv2d_102 (Conv2D)          (None, 178, 118, 32)      896       \n",
            "_________________________________________________________________\n",
            "max_pooling2d_92 (MaxPooling (None, 89, 59, 32)        0         \n",
            "_________________________________________________________________\n",
            "conv2d_103 (Conv2D)          (None, 87, 57, 32)        9248      \n",
            "_________________________________________________________________\n",
            "max_pooling2d_93 (MaxPooling (None, 43, 28, 32)        0         \n",
            "_________________________________________________________________\n",
            "conv2d_104 (Conv2D)          (None, 41, 26, 64)        18496     \n",
            "_________________________________________________________________\n",
            "max_pooling2d_94 (MaxPooling (None, 20, 13, 64)        0         \n",
            "_________________________________________________________________\n",
            "conv2d_105 (Conv2D)          (None, 18, 11, 128)       73856     \n",
            "_________________________________________________________________\n",
            "max_pooling2d_95 (MaxPooling (None, 9, 5, 128)         0         \n",
            "_________________________________________________________________\n",
            "conv2d_106 (Conv2D)          (None, 7, 3, 128)         147584    \n",
            "_________________________________________________________________\n",
            "max_pooling2d_96 (MaxPooling (None, 3, 1, 128)         0         \n",
            "_________________________________________________________________\n",
            "flatten_31 (Flatten)         (None, 384)               0         \n",
            "_________________________________________________________________\n",
            "dense_58 (Dense)             (None, 512)               197120    \n",
            "_________________________________________________________________\n",
            "dense_59 (Dense)             (None, 3)                 1539      \n",
            "=================================================================\n",
            "Total params: 448,739\n",
            "Trainable params: 448,739\n",
            "Non-trainable params: 0\n",
            "_________________________________________________________________\n"
          ],
          "name": "stdout"
        }
      ]
    },
    {
      "cell_type": "code",
      "metadata": {
        "id": "QiaZOxoKEARt"
      },
      "source": [
        "#Lets create the augmentation configuration\n",
        "#This helps prevent overfitting, since we are using a small dataset\n",
        "train_datagen = ImageDataGenerator(rescale=1./255,   #Scale the image between 0 and 1\n",
        "                                    rotation_range=40,\n",
        "                                    width_shift_range=0.2,\n",
        "                                    height_shift_range=0.2,\n",
        "                                    shear_range=0.2,\n",
        "                                    zoom_range=0.2,\n",
        "                                    horizontal_flip=True,)\n",
        "\n",
        "val_datagen = ImageDataGenerator(rescale=1./255)  #We do not augment validation data. we only perform rescale\n",
        "\n",
        "\n",
        "#Create the image generators\n",
        "train_generator = train_datagen.flow(X_train, y_train, batch_size=batch_size)\n",
        "val_generator = val_datagen.flow(X_val, y_val, batch_size=batch_size)"
      ],
      "execution_count": null,
      "outputs": []
    },
    {
      "cell_type": "code",
      "metadata": {
        "id": "QqGuA2E9GAHa"
      },
      "source": [
        "print(\"Train Generator\", len(train_generator))\n",
        "print(\"Val Generator\", len(val_generator))"
      ],
      "execution_count": null,
      "outputs": []
    },
    {
      "cell_type": "code",
      "metadata": {
        "colab": {
          "base_uri": "https://localhost:8080/"
        },
        "id": "KTIQ3dfsEPlS",
        "outputId": "f9f44c1e-b32b-4c21-b904-0da9446eeb69"
      },
      "source": [
        "#100 steps per epoch\n",
        "Epocas = 50\n",
        "\n",
        "history = model.fit_generator(train_generator, steps_per_epoch=ntrain // batch_size, epochs=Epocas, validation_data=val_generator, validation_steps=nval // batch_size)\n",
        "model.save('modelo.h5')\n"
      ],
      "execution_count": null,
      "outputs": [
        {
          "output_type": "stream",
          "text": [
            "/usr/local/lib/python3.7/dist-packages/tensorflow/python/keras/engine/training.py:1940: UserWarning: `Model.fit_generator` is deprecated and will be removed in a future version. Please use `Model.fit`, which supports generators.\n",
            "  warnings.warn('`Model.fit_generator` is deprecated and '\n"
          ],
          "name": "stderr"
        },
        {
          "output_type": "stream",
          "text": [
            "Epoch 1/50\n",
            "15/15 [==============================] - 2s 81ms/step - loss: 1.1074 - accuracy: 0.3083 - val_loss: 1.0991 - val_accuracy: 0.4167\n",
            "Epoch 2/50\n",
            "15/15 [==============================] - 1s 76ms/step - loss: 1.1012 - accuracy: 0.3000 - val_loss: 1.0983 - val_accuracy: 0.3125\n",
            "Epoch 3/50\n",
            "15/15 [==============================] - 1s 76ms/step - loss: 1.0992 - accuracy: 0.3417 - val_loss: 1.1003 - val_accuracy: 0.3125\n",
            "Epoch 4/50\n",
            "15/15 [==============================] - 1s 75ms/step - loss: 1.0919 - accuracy: 0.4333 - val_loss: 1.0451 - val_accuracy: 0.6042\n",
            "Epoch 5/50\n",
            "15/15 [==============================] - 1s 75ms/step - loss: 1.0776 - accuracy: 0.3917 - val_loss: 1.0975 - val_accuracy: 0.3542\n",
            "Epoch 6/50\n",
            "15/15 [==============================] - 1s 77ms/step - loss: 1.1055 - accuracy: 0.3083 - val_loss: 1.0945 - val_accuracy: 0.2917\n",
            "Epoch 7/50\n",
            "15/15 [==============================] - 1s 75ms/step - loss: 1.0273 - accuracy: 0.4292 - val_loss: 0.8663 - val_accuracy: 0.6250\n",
            "Epoch 8/50\n",
            "15/15 [==============================] - 1s 75ms/step - loss: 0.9675 - accuracy: 0.4958 - val_loss: 0.9949 - val_accuracy: 0.5000\n",
            "Epoch 9/50\n",
            "15/15 [==============================] - 1s 74ms/step - loss: 0.9267 - accuracy: 0.5250 - val_loss: 0.8758 - val_accuracy: 0.5208\n",
            "Epoch 10/50\n",
            "15/15 [==============================] - 1s 78ms/step - loss: 0.9109 - accuracy: 0.5667 - val_loss: 0.8097 - val_accuracy: 0.6458\n",
            "Epoch 11/50\n",
            "15/15 [==============================] - 1s 79ms/step - loss: 0.8716 - accuracy: 0.6042 - val_loss: 0.7468 - val_accuracy: 0.7500\n",
            "Epoch 12/50\n",
            "15/15 [==============================] - 1s 78ms/step - loss: 0.8113 - accuracy: 0.5958 - val_loss: 0.6709 - val_accuracy: 0.6250\n",
            "Epoch 13/50\n",
            "15/15 [==============================] - 1s 75ms/step - loss: 0.7867 - accuracy: 0.6500 - val_loss: 0.6732 - val_accuracy: 0.7708\n",
            "Epoch 14/50\n",
            "15/15 [==============================] - 1s 74ms/step - loss: 0.7591 - accuracy: 0.6667 - val_loss: 0.5993 - val_accuracy: 0.8125\n",
            "Epoch 15/50\n",
            "15/15 [==============================] - 1s 74ms/step - loss: 0.6012 - accuracy: 0.7542 - val_loss: 0.3687 - val_accuracy: 0.9167\n",
            "Epoch 16/50\n",
            "15/15 [==============================] - 1s 76ms/step - loss: 0.5161 - accuracy: 0.7958 - val_loss: 0.3771 - val_accuracy: 0.8333\n",
            "Epoch 17/50\n",
            "15/15 [==============================] - 1s 74ms/step - loss: 0.3919 - accuracy: 0.8458 - val_loss: 0.2600 - val_accuracy: 0.9167\n",
            "Epoch 18/50\n",
            "15/15 [==============================] - 1s 73ms/step - loss: 0.2935 - accuracy: 0.8792 - val_loss: 0.2333 - val_accuracy: 0.8958\n",
            "Epoch 19/50\n",
            "15/15 [==============================] - 1s 77ms/step - loss: 0.3074 - accuracy: 0.8875 - val_loss: 0.2020 - val_accuracy: 0.9375\n",
            "Epoch 20/50\n",
            "15/15 [==============================] - 1s 81ms/step - loss: 0.2251 - accuracy: 0.9250 - val_loss: 0.1508 - val_accuracy: 0.9167\n",
            "Epoch 21/50\n",
            "15/15 [==============================] - 1s 77ms/step - loss: 0.2237 - accuracy: 0.9250 - val_loss: 0.1788 - val_accuracy: 0.9375\n",
            "Epoch 22/50\n",
            "15/15 [==============================] - 1s 80ms/step - loss: 0.2346 - accuracy: 0.9000 - val_loss: 0.2191 - val_accuracy: 0.9167\n",
            "Epoch 23/50\n",
            "15/15 [==============================] - 1s 76ms/step - loss: 0.3734 - accuracy: 0.8542 - val_loss: 0.2362 - val_accuracy: 0.9375\n",
            "Epoch 24/50\n",
            "15/15 [==============================] - 1s 78ms/step - loss: 0.2913 - accuracy: 0.8917 - val_loss: 0.2075 - val_accuracy: 0.9583\n",
            "Epoch 25/50\n",
            "15/15 [==============================] - 1s 76ms/step - loss: 0.2651 - accuracy: 0.9000 - val_loss: 0.2296 - val_accuracy: 0.9167\n",
            "Epoch 26/50\n",
            "15/15 [==============================] - 1s 76ms/step - loss: 0.2126 - accuracy: 0.9292 - val_loss: 0.2294 - val_accuracy: 0.9375\n",
            "Epoch 27/50\n",
            "15/15 [==============================] - 1s 77ms/step - loss: 0.1746 - accuracy: 0.9250 - val_loss: 0.1276 - val_accuracy: 0.9375\n",
            "Epoch 28/50\n",
            "15/15 [==============================] - 1s 79ms/step - loss: 0.2334 - accuracy: 0.9250 - val_loss: 0.1293 - val_accuracy: 0.9375\n",
            "Epoch 29/50\n",
            "15/15 [==============================] - 1s 79ms/step - loss: 0.1343 - accuracy: 0.9583 - val_loss: 0.0969 - val_accuracy: 0.9583\n",
            "Epoch 30/50\n",
            "15/15 [==============================] - 1s 79ms/step - loss: 0.1758 - accuracy: 0.9333 - val_loss: 0.1125 - val_accuracy: 0.9792\n",
            "Epoch 31/50\n",
            "15/15 [==============================] - 1s 78ms/step - loss: 0.1923 - accuracy: 0.9417 - val_loss: 0.1306 - val_accuracy: 0.9375\n",
            "Epoch 32/50\n",
            "15/15 [==============================] - 1s 80ms/step - loss: 0.1431 - accuracy: 0.9625 - val_loss: 0.0382 - val_accuracy: 0.9792\n",
            "Epoch 33/50\n",
            "15/15 [==============================] - 1s 78ms/step - loss: 0.1226 - accuracy: 0.9542 - val_loss: 0.0297 - val_accuracy: 1.0000\n",
            "Epoch 34/50\n",
            "15/15 [==============================] - 1s 78ms/step - loss: 0.1982 - accuracy: 0.9333 - val_loss: 0.1548 - val_accuracy: 0.9583\n",
            "Epoch 35/50\n",
            "15/15 [==============================] - 1s 81ms/step - loss: 0.1177 - accuracy: 0.9625 - val_loss: 0.0653 - val_accuracy: 0.9792\n",
            "Epoch 36/50\n",
            "15/15 [==============================] - 1s 79ms/step - loss: 0.0898 - accuracy: 0.9750 - val_loss: 0.1307 - val_accuracy: 0.9583\n",
            "Epoch 37/50\n",
            "15/15 [==============================] - 1s 78ms/step - loss: 0.0902 - accuracy: 0.9583 - val_loss: 0.1645 - val_accuracy: 0.9583\n",
            "Epoch 38/50\n",
            "15/15 [==============================] - 1s 78ms/step - loss: 0.1483 - accuracy: 0.9375 - val_loss: 0.0939 - val_accuracy: 0.9583\n",
            "Epoch 39/50\n",
            "15/15 [==============================] - 1s 78ms/step - loss: 0.1793 - accuracy: 0.9250 - val_loss: 0.1135 - val_accuracy: 0.9583\n",
            "Epoch 40/50\n",
            "15/15 [==============================] - 1s 77ms/step - loss: 0.0974 - accuracy: 0.9667 - val_loss: 0.0503 - val_accuracy: 0.9792\n",
            "Epoch 41/50\n",
            "15/15 [==============================] - 1s 79ms/step - loss: 0.1082 - accuracy: 0.9625 - val_loss: 0.0893 - val_accuracy: 0.9583\n",
            "Epoch 42/50\n",
            "15/15 [==============================] - 1s 79ms/step - loss: 0.1927 - accuracy: 0.9250 - val_loss: 0.1749 - val_accuracy: 0.9167\n",
            "Epoch 43/50\n",
            "15/15 [==============================] - 1s 79ms/step - loss: 0.1000 - accuracy: 0.9583 - val_loss: 0.0957 - val_accuracy: 0.9583\n",
            "Epoch 44/50\n",
            "15/15 [==============================] - 1s 78ms/step - loss: 0.1240 - accuracy: 0.9583 - val_loss: 0.0656 - val_accuracy: 0.9792\n",
            "Epoch 45/50\n",
            "15/15 [==============================] - 1s 78ms/step - loss: 0.1165 - accuracy: 0.9500 - val_loss: 0.0947 - val_accuracy: 0.9792\n",
            "Epoch 46/50\n",
            "15/15 [==============================] - 1s 77ms/step - loss: 0.1086 - accuracy: 0.9583 - val_loss: 0.0867 - val_accuracy: 0.9792\n",
            "Epoch 47/50\n",
            "15/15 [==============================] - 1s 76ms/step - loss: 0.1178 - accuracy: 0.9458 - val_loss: 0.0629 - val_accuracy: 0.9792\n",
            "Epoch 48/50\n",
            "15/15 [==============================] - 1s 78ms/step - loss: 0.1157 - accuracy: 0.9542 - val_loss: 0.2135 - val_accuracy: 0.9583\n",
            "Epoch 49/50\n",
            "15/15 [==============================] - 1s 78ms/step - loss: 0.1339 - accuracy: 0.9625 - val_loss: 0.0631 - val_accuracy: 0.9792\n",
            "Epoch 50/50\n",
            "15/15 [==============================] - 1s 80ms/step - loss: 0.2834 - accuracy: 0.8917 - val_loss: 0.1838 - val_accuracy: 0.9375\n"
          ],
          "name": "stdout"
        }
      ]
    },
    {
      "cell_type": "code",
      "metadata": {
        "colab": {
          "base_uri": "https://localhost:8080/",
          "height": 545
        },
        "id": "IvxmmGqIcDb8",
        "outputId": "be450736-ca22-4c66-b31c-83f456efb7e4"
      },
      "source": [
        "acc = history.history['accuracy']\n",
        "val_acc = history.history['val_accuracy']\n",
        "loss = history.history['loss']\n",
        "val_loss = history.history['val_loss']\n",
        "epochs = range(1, len(acc) + 1)\n",
        "#Train and validation accuracy\n",
        "plt.plot(epochs, acc, 'b', label='Training accuracy')\n",
        "plt.plot(epochs, val_acc, 'r', label='Validation accuracy')\n",
        "plt.title('Training and Validation accuracy')\n",
        "plt.legend()\n",
        "plt.figure()\n",
        "#Train and validation loss\n",
        "plt.plot(epochs, loss, 'b', label='Training loss')\n",
        "plt.plot(epochs, val_loss, 'r', label='Validation loss')\n",
        "plt.title('Training and Validation loss')\n",
        "plt.legend()\n",
        "plt.show()\n"
      ],
      "execution_count": null,
      "outputs": [
        {
          "output_type": "display_data",
          "data": {
            "image/png": "[encoded data removed]",
            "text/plain": [
              "<Figure size 432x288 with 1 Axes>"
            ]
          },
          "metadata": {
            "tags": [],
            "needs_background": "light"
          }
        },
        {
          "output_type": "display_data",
          "data": {
            "image/png": "[encoded data removed]",
            "text/plain": [
              "<Figure size 432x288 with 1 Axes>"
            ]
          },
          "metadata": {
            "tags": [],
            "needs_background": "light"
          }
        }
      ]
    }
  ]
}