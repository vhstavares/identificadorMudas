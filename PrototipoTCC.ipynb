{
  "nbformat": 4,
  "nbformat_minor": 0,
  "metadata": {
    "colab": {
      "name": "PrototipoTCC.ipynb",
      "provenance": [],
      "collapsed_sections": []
    },
    "kernelspec": {
      "name": "python3",
      "display_name": "Python 3"
    },
    "language_info": {
      "name": "python"
    },
    "accelerator": "GPU"
  },
  "cells": [
    {
      "cell_type": "code",
      "metadata": {
        "id": "SGUiaqUrxoNK"
      },
      "source": [
        "import cv2\n",
        "import numpy as np\n",
        "from IPython import get_ipython\n",
        "import matplotlib.pyplot as plt\n",
        "import os\n",
        "import random\n",
        "import gc\n",
        "import seaborn as sns\n",
        "from keras import layers\n",
        "from keras import models\n",
        "from keras import optimizers\n",
        "from keras.preprocessing.image import ImageDataGenerator\n",
        "from sklearn.model_selection import train_test_split"
      ],
      "execution_count": 59,
      "outputs": []
    },
    {
      "cell_type": "code",
      "metadata": {
        "id": "s5V6X_NHxv9o"
      },
      "source": [
        "Epocas = 50\n",
        "TotalTreino = 100\n",
        "#Numero de colunas a serem exibidas as imagens\n",
        "columns = 3"
      ],
      "execution_count": 2,
      "outputs": []
    },
    {
      "cell_type": "code",
      "metadata": {
        "colab": {
          "base_uri": "https://localhost:8080/"
        },
        "id": "5ji1lDON1B0q",
        "outputId": "4ad9c0c1-6efb-468b-a8c1-eeea5c57190e"
      },
      "source": [
        "from google.colab import drive\n",
        "drive.mount('/content/drive/', force_remount=True)"
      ],
      "execution_count": 60,
      "outputs": [
        {
          "output_type": "stream",
          "text": [
            "Mounted at /content/drive/\n"
          ],
          "name": "stdout"
        }
      ]
    },
    {
      "cell_type": "code",
      "metadata": {
        "id": "yyHRPk2K2fpB"
      },
      "source": [
        "train_dir = \"/content/drive/MyDrive/tcc/arquivos/train\""
      ],
      "execution_count": 4,
      "outputs": []
    },
    {
      "cell_type": "code",
      "metadata": {
        "id": "bjM7bFND4c5T"
      },
      "source": [
        "train_img = []\n",
        "for train in os.listdir(train_dir):\n",
        "  train_muda = [train_dir+\"/\"+train+\"/\"+img for img in os.listdir(train_dir+\"/\"+train)]\n",
        "  train_img += train_muda[:TotalTreino]"
      ],
      "execution_count": 5,
      "outputs": []
    },
    {
      "cell_type": "code",
      "metadata": {
        "id": "Kuja8lbQXitw",
        "colab": {
          "base_uri": "https://localhost:8080/"
        },
        "outputId": "1cd7da8f-e2ef-4f56-cbbb-769f62299916"
      },
      "source": [
        "print(len(train_img))"
      ],
      "execution_count": 6,
      "outputs": [
        {
          "output_type": "stream",
          "text": [
            "300\n"
          ],
          "name": "stdout"
        }
      ]
    },
    {
      "cell_type": "code",
      "metadata": {
        "id": "0ETewpKn6VXD"
      },
      "source": [
        "random.shuffle(train_img)"
      ],
      "execution_count": 7,
      "outputs": []
    },
    {
      "cell_type": "code",
      "metadata": {
        "id": "tHIaA52x6w45"
      },
      "source": [
        "nrows = 180\n",
        "ncolumns = 120\n",
        "channels = 3  #change to 1 if you want to use grayscale image"
      ],
      "execution_count": 126,
      "outputs": []
    },
    {
      "cell_type": "code",
      "metadata": {
        "id": "f6jyb9vL_7Pk"
      },
      "source": [
        "def read_and_process_image(list_of_images):\n",
        "    \"\"\"\n",
        "    Returns two arrays: \n",
        "        X is an array of resized images\n",
        "        y is an array of labels\n",
        "    \"\"\"\n",
        "    X = [] # images\n",
        "    y = [] # labels\n",
        "    \n",
        "    for image in list_of_images:\n",
        "        X.append(cv2.resize(cv2.imread(image, cv2.IMREAD_COLOR), (nrows,ncolumns), interpolation=cv2.INTER_CUBIC))  #Read the image\n",
        "        #get the labels\n",
        "\n",
        "        if 'CARAIBA' in image:\n",
        "            y.append(0)\n",
        "        elif 'GUARITA' in image:\n",
        "            y.append(1)\n",
        "        elif 'IPE_AMARELO' in image:\n",
        "            y.append(2)\n",
        "        \n",
        "\n",
        "    return X, y"
      ],
      "execution_count": 9,
      "outputs": []
    },
    {
      "cell_type": "code",
      "metadata": {
        "id": "okXpbgZHAg5l"
      },
      "source": [
        "X, y = read_and_process_image(train_img)"
      ],
      "execution_count": 10,
      "outputs": []
    },
    {
      "cell_type": "code",
      "metadata": {
        "colab": {
          "base_uri": "https://localhost:8080/",
          "height": 332
        },
        "id": "3erX1sjPBORL",
        "outputId": "fc6a3900-1603-4cb3-9c27-e75846dbc61b"
      },
      "source": [
        "X = np.array(X)\n",
        "y = np.array(y)\n",
        "\n",
        "#Lets plot the label to be sure we just have two class\n",
        "sns.countplot(y)\n",
        "plt.title('Rótulos para mudas:')"
      ],
      "execution_count": 11,
      "outputs": [
        {
          "output_type": "stream",
          "text": [
            "/usr/local/lib/python3.7/dist-packages/seaborn/_decorators.py:43: FutureWarning: Pass the following variable as a keyword arg: x. From version 0.12, the only valid positional argument will be `data`, and passing other arguments without an explicit keyword will result in an error or misinterpretation.\n",
            "  FutureWarning\n"
          ],
          "name": "stderr"
        },
        {
          "output_type": "execute_result",
          "data": {
            "text/plain": [
              "Text(0.5, 1.0, 'Rótulos para mudas:')"
            ]
          },
          "metadata": {
            "tags": []
          },
          "execution_count": 11
        },
        {
          "output_type": "display_data",
          "data": {
            "image/png": "[encoded data removed]",
            "text/plain": [
              "<Figure size 432x288 with 1 Axes>"
            ]
          },
          "metadata": {
            "tags": [],
            "needs_background": "light"
          }
        }
      ]
    },
    {
      "cell_type": "code",
      "metadata": {
        "colab": {
          "base_uri": "https://localhost:8080/"
        },
        "id": "MrehL6c5BXTs",
        "outputId": "08f39d0f-817b-4e67-dbdb-6a0b6789d690"
      },
      "source": [
        "X_train, X_val, y_train, y_val = train_test_split(X, y, test_size=0.20, random_state=2)\n",
        "\n",
        "print(\"Shape of train images is:\", X_train.shape)\n",
        "print(\"Shape of validation images is:\", X_val.shape)\n",
        "print(\"Shape of labels is:\", y_train.shape)\n",
        "print(\"Shape of labels is:\", y_val.shape)"
      ],
      "execution_count": 12,
      "outputs": [
        {
          "output_type": "stream",
          "text": [
            "Shape of train images is: (240, 120, 180, 3)\n",
            "Shape of validation images is: (60, 120, 180, 3)\n",
            "Shape of labels is: (240,)\n",
            "Shape of labels is: (60,)\n"
          ],
          "name": "stdout"
        }
      ]
    },
    {
      "cell_type": "code",
      "metadata": {
        "colab": {
          "base_uri": "https://localhost:8080/"
        },
        "id": "p8k8W0kmBgB2",
        "outputId": "8c34bcff-89c2-4296-d519-fca65305e6b6"
      },
      "source": [
        "ntrain = len(X_train)\n",
        "nval = len(X_val)\n",
        "\n",
        "#We will use a batch size of 32. Note: batch size should be a factor of 2.***4,8,16,32,64...***\n",
        "batch_size = 16\n",
        "\n",
        "print(ntrain, nval)"
      ],
      "execution_count": 13,
      "outputs": [
        {
          "output_type": "stream",
          "text": [
            "240 60\n"
          ],
          "name": "stdout"
        }
      ]
    },
    {
      "cell_type": "code",
      "metadata": {
        "colab": {
          "base_uri": "https://localhost:8080/"
        },
        "id": "g2geFkBBCZIU",
        "outputId": "13db59af-4ec3-4e4b-bedf-e957f418773c"
      },
      "source": [
        "import tensorflow as tf\n",
        "\n",
        "from tensorflow import keras\n",
        "from tensorflow.keras import layers,losses\n",
        "from tensorflow.keras.models import Sequential\n",
        "\n",
        "num_classes = 3\n",
        "#layers.experimental.preprocessing.Rescaling(1./255, input_shape=(180, 180, 3)),\n",
        "model = Sequential([\n",
        "  #layers.experimental.preprocessing.Rescaling(1./255, input_shape=(180, 180, 3)),\n",
        "  layers.Conv2D(32, (3, 3), activation='relu', input_shape=(180, 120, 3)),\n",
        "  layers.MaxPooling2D((2, 2)),\n",
        "  layers.Conv2D(64, (3, 3), activation='relu', input_shape=(180, 120, 3)),\n",
        "  layers.MaxPooling2D((2, 2)),\n",
        "  layers.Conv2D(128, (3, 3),  activation='relu', input_shape=(180, 120, 3)),\n",
        "  layers.MaxPooling2D((2, 2)),\n",
        "  layers.Conv2D(128, (3, 3),  activation='relu', input_shape=(180, 120, 3)),\n",
        "  layers.MaxPooling2D((2, 2)),\n",
        "  layers.Flatten(),\n",
        "  layers.Dense(512, activation='relu'),\n",
        "  layers.Dense(num_classes, activation='softmax')\n",
        "])\n",
        "\n",
        "#Lets see our model\n",
        "model.summary()\n",
        "#softmax\n",
        "\n",
        "model.compile(optimizer='adam',\n",
        "              loss='sparse_categorical_crossentropy',\n",
        "              metrics=['accuracy'])"
      ],
      "execution_count": 19,
      "outputs": [
        {
          "output_type": "stream",
          "text": [
            "Model: \"sequential_2\"\n",
            "_________________________________________________________________\n",
            "Layer (type)                 Output Shape              Param #   \n",
            "=================================================================\n",
            "conv2d_8 (Conv2D)            (None, 178, 118, 32)      896       \n",
            "_________________________________________________________________\n",
            "max_pooling2d_8 (MaxPooling2 (None, 89, 59, 32)        0         \n",
            "_________________________________________________________________\n",
            "conv2d_9 (Conv2D)            (None, 87, 57, 64)        18496     \n",
            "_________________________________________________________________\n",
            "max_pooling2d_9 (MaxPooling2 (None, 43, 28, 64)        0         \n",
            "_________________________________________________________________\n",
            "conv2d_10 (Conv2D)           (None, 41, 26, 128)       73856     \n",
            "_________________________________________________________________\n",
            "max_pooling2d_10 (MaxPooling (None, 20, 13, 128)       0         \n",
            "_________________________________________________________________\n",
            "conv2d_11 (Conv2D)           (None, 18, 11, 128)       147584    \n",
            "_________________________________________________________________\n",
            "max_pooling2d_11 (MaxPooling (None, 9, 5, 128)         0         \n",
            "_________________________________________________________________\n",
            "flatten_2 (Flatten)          (None, 5760)              0         \n",
            "_________________________________________________________________\n",
            "dense_4 (Dense)              (None, 512)               2949632   \n",
            "_________________________________________________________________\n",
            "dense_5 (Dense)              (None, 3)                 1539      \n",
            "=================================================================\n",
            "Total params: 3,192,003\n",
            "Trainable params: 3,192,003\n",
            "Non-trainable params: 0\n",
            "_________________________________________________________________\n"
          ],
          "name": "stdout"
        }
      ]
    },
    {
      "cell_type": "code",
      "metadata": {
        "id": "QiaZOxoKEARt"
      },
      "source": [
        "#Lets create the augmentation configuration\n",
        "#This helps prevent overfitting, since we are using a small dataset\n",
        "train_datagen = ImageDataGenerator(rescale=1./255,   #Scale the image between 0 and 1\n",
        "                                    rotation_range=40,\n",
        "                                    width_shift_range=0.2,\n",
        "                                    height_shift_range=0.2,\n",
        "                                    shear_range=0.2,\n",
        "                                    zoom_range=0.2,\n",
        "                                    horizontal_flip=True,)\n",
        "\n",
        "val_datagen = ImageDataGenerator(rescale=1./255)  #We do not augment validation data. we only perform rescale\n",
        "\n",
        "\n",
        "#Create the image generators\n",
        "train_generator = train_datagen.flow(X_train, y_train, batch_size=batch_size)\n",
        "val_generator = val_datagen.flow(X_val, y_val, batch_size=batch_size)"
      ],
      "execution_count": 16,
      "outputs": []
    },
    {
      "cell_type": "code",
      "metadata": {
        "id": "QqGuA2E9GAHa",
        "colab": {
          "base_uri": "https://localhost:8080/"
        },
        "outputId": "96098210-e577-4fd0-c759-d637a1ef4b5a"
      },
      "source": [
        "print(\"Train Generator\", len(train_generator))\n",
        "print(\"Val Generator\", len(val_generator))"
      ],
      "execution_count": 17,
      "outputs": [
        {
          "output_type": "stream",
          "text": [
            "Train Generator 15\n",
            "Val Generator 4\n"
          ],
          "name": "stdout"
        }
      ]
    },
    {
      "cell_type": "code",
      "metadata": {
        "colab": {
          "base_uri": "https://localhost:8080/"
        },
        "id": "KTIQ3dfsEPlS",
        "outputId": "731f84c8-367f-44d7-832f-081f165cd46c"
      },
      "source": [
        "#100 steps per epoch\n",
        "Epocas = 50\n",
        "\n",
        "history = model.fit_generator(train_generator, steps_per_epoch=ntrain // batch_size, epochs=Epocas, validation_data=val_generator, validation_steps=nval // batch_size)\n",
        "model.save('modelo.h5')\n"
      ],
      "execution_count": 115,
      "outputs": [
        {
          "output_type": "stream",
          "text": [
            "/usr/local/lib/python3.7/dist-packages/keras/engine/training.py:1915: UserWarning: `Model.fit_generator` is deprecated and will be removed in a future version. Please use `Model.fit`, which supports generators.\n",
            "  warnings.warn('`Model.fit_generator` is deprecated and '\n"
          ],
          "name": "stderr"
        },
        {
          "output_type": "stream",
          "text": [
            "Epoch 1/50\n",
            "15/15 [==============================] - 8s 120ms/step - loss: 0.0150 - accuracy: 0.9917 - val_loss: 0.0035 - val_accuracy: 1.0000\n",
            "Epoch 2/50\n",
            "15/15 [==============================] - 1s 80ms/step - loss: 0.0410 - accuracy: 0.9833 - val_loss: 0.0061 - val_accuracy: 1.0000\n",
            "Epoch 3/50\n",
            "15/15 [==============================] - 1s 79ms/step - loss: 0.0317 - accuracy: 0.9875 - val_loss: 0.0013 - val_accuracy: 1.0000\n",
            "Epoch 4/50\n",
            "15/15 [==============================] - 1s 80ms/step - loss: 0.0123 - accuracy: 0.9958 - val_loss: 0.0341 - val_accuracy: 0.9792\n",
            "Epoch 5/50\n",
            "15/15 [==============================] - 1s 80ms/step - loss: 0.0072 - accuracy: 1.0000 - val_loss: 0.0011 - val_accuracy: 1.0000\n",
            "Epoch 6/50\n",
            "15/15 [==============================] - 1s 81ms/step - loss: 0.0022 - accuracy: 1.0000 - val_loss: 2.3725e-04 - val_accuracy: 1.0000\n",
            "Epoch 7/50\n",
            "15/15 [==============================] - 1s 80ms/step - loss: 0.0057 - accuracy: 1.0000 - val_loss: 0.0049 - val_accuracy: 1.0000\n",
            "Epoch 8/50\n",
            "15/15 [==============================] - 1s 80ms/step - loss: 0.0341 - accuracy: 0.9875 - val_loss: 8.3799e-04 - val_accuracy: 1.0000\n",
            "Epoch 9/50\n",
            "15/15 [==============================] - 1s 82ms/step - loss: 0.0785 - accuracy: 0.9708 - val_loss: 0.0911 - val_accuracy: 0.9792\n",
            "Epoch 10/50\n",
            "15/15 [==============================] - 1s 80ms/step - loss: 0.0236 - accuracy: 0.9958 - val_loss: 0.0714 - val_accuracy: 0.9583\n",
            "Epoch 11/50\n",
            "15/15 [==============================] - 1s 81ms/step - loss: 0.0483 - accuracy: 0.9792 - val_loss: 0.0046 - val_accuracy: 1.0000\n",
            "Epoch 12/50\n",
            "15/15 [==============================] - 1s 81ms/step - loss: 0.0275 - accuracy: 0.9875 - val_loss: 0.0067 - val_accuracy: 1.0000\n",
            "Epoch 13/50\n",
            "15/15 [==============================] - 1s 81ms/step - loss: 0.0658 - accuracy: 0.9792 - val_loss: 0.0013 - val_accuracy: 1.0000\n",
            "Epoch 14/50\n",
            "15/15 [==============================] - 1s 81ms/step - loss: 0.0596 - accuracy: 0.9792 - val_loss: 0.0914 - val_accuracy: 0.9583\n",
            "Epoch 15/50\n",
            "15/15 [==============================] - 1s 81ms/step - loss: 0.0328 - accuracy: 0.9875 - val_loss: 5.7386e-04 - val_accuracy: 1.0000\n",
            "Epoch 16/50\n",
            "15/15 [==============================] - 1s 83ms/step - loss: 0.0295 - accuracy: 0.9833 - val_loss: 0.0128 - val_accuracy: 1.0000\n",
            "Epoch 17/50\n",
            "15/15 [==============================] - 1s 79ms/step - loss: 0.0347 - accuracy: 0.9875 - val_loss: 0.0011 - val_accuracy: 1.0000\n",
            "Epoch 18/50\n",
            "15/15 [==============================] - 1s 79ms/step - loss: 0.0245 - accuracy: 0.9958 - val_loss: 0.0858 - val_accuracy: 0.9583\n",
            "Epoch 19/50\n",
            "15/15 [==============================] - 1s 81ms/step - loss: 0.0354 - accuracy: 0.9875 - val_loss: 0.0025 - val_accuracy: 1.0000\n",
            "Epoch 20/50\n",
            "15/15 [==============================] - 1s 80ms/step - loss: 0.0255 - accuracy: 0.9958 - val_loss: 0.0979 - val_accuracy: 0.9792\n",
            "Epoch 21/50\n",
            "15/15 [==============================] - 1s 81ms/step - loss: 0.0262 - accuracy: 0.9958 - val_loss: 0.0070 - val_accuracy: 1.0000\n",
            "Epoch 22/50\n",
            "15/15 [==============================] - 1s 81ms/step - loss: 0.0143 - accuracy: 0.9917 - val_loss: 0.0123 - val_accuracy: 1.0000\n",
            "Epoch 23/50\n",
            "15/15 [==============================] - 1s 81ms/step - loss: 0.0189 - accuracy: 0.9875 - val_loss: 5.0437e-04 - val_accuracy: 1.0000\n",
            "Epoch 24/50\n",
            "15/15 [==============================] - 1s 81ms/step - loss: 0.0179 - accuracy: 0.9917 - val_loss: 5.2211e-04 - val_accuracy: 1.0000\n",
            "Epoch 25/50\n",
            "15/15 [==============================] - 1s 83ms/step - loss: 0.0562 - accuracy: 0.9750 - val_loss: 0.0112 - val_accuracy: 1.0000\n",
            "Epoch 26/50\n",
            "15/15 [==============================] - 1s 83ms/step - loss: 0.0399 - accuracy: 0.9875 - val_loss: 0.0086 - val_accuracy: 1.0000\n",
            "Epoch 27/50\n",
            "15/15 [==============================] - 1s 80ms/step - loss: 0.0719 - accuracy: 0.9667 - val_loss: 0.0325 - val_accuracy: 0.9792\n",
            "Epoch 28/50\n",
            "15/15 [==============================] - 1s 81ms/step - loss: 0.1125 - accuracy: 0.9583 - val_loss: 0.0036 - val_accuracy: 1.0000\n",
            "Epoch 29/50\n",
            "15/15 [==============================] - 1s 82ms/step - loss: 0.0652 - accuracy: 0.9750 - val_loss: 0.0236 - val_accuracy: 1.0000\n",
            "Epoch 30/50\n",
            "15/15 [==============================] - 1s 82ms/step - loss: 0.0684 - accuracy: 0.9625 - val_loss: 0.0082 - val_accuracy: 1.0000\n",
            "Epoch 31/50\n",
            "15/15 [==============================] - 1s 83ms/step - loss: 0.0252 - accuracy: 0.9958 - val_loss: 0.0028 - val_accuracy: 1.0000\n",
            "Epoch 32/50\n",
            "15/15 [==============================] - 1s 81ms/step - loss: 0.0082 - accuracy: 0.9958 - val_loss: 0.0027 - val_accuracy: 1.0000\n",
            "Epoch 33/50\n",
            "15/15 [==============================] - 1s 81ms/step - loss: 0.0081 - accuracy: 0.9958 - val_loss: 0.0592 - val_accuracy: 0.9792\n",
            "Epoch 34/50\n",
            "15/15 [==============================] - 1s 81ms/step - loss: 0.0243 - accuracy: 0.9833 - val_loss: 0.0012 - val_accuracy: 1.0000\n",
            "Epoch 35/50\n",
            "15/15 [==============================] - 1s 80ms/step - loss: 0.0078 - accuracy: 1.0000 - val_loss: 6.8520e-04 - val_accuracy: 1.0000\n",
            "Epoch 36/50\n",
            "15/15 [==============================] - 1s 78ms/step - loss: 0.0090 - accuracy: 0.9917 - val_loss: 0.0030 - val_accuracy: 1.0000\n",
            "Epoch 37/50\n",
            "15/15 [==============================] - 1s 77ms/step - loss: 0.0189 - accuracy: 0.9917 - val_loss: 0.0016 - val_accuracy: 1.0000\n",
            "Epoch 38/50\n",
            "15/15 [==============================] - 1s 80ms/step - loss: 0.0101 - accuracy: 0.9958 - val_loss: 0.0011 - val_accuracy: 1.0000\n",
            "Epoch 39/50\n",
            "15/15 [==============================] - 1s 81ms/step - loss: 0.0130 - accuracy: 0.9917 - val_loss: 0.0015 - val_accuracy: 1.0000\n",
            "Epoch 40/50\n",
            "15/15 [==============================] - 1s 81ms/step - loss: 0.0023 - accuracy: 1.0000 - val_loss: 1.0543e-04 - val_accuracy: 1.0000\n",
            "Epoch 41/50\n",
            "15/15 [==============================] - 1s 81ms/step - loss: 0.0023 - accuracy: 1.0000 - val_loss: 1.5498e-04 - val_accuracy: 1.0000\n",
            "Epoch 42/50\n",
            "15/15 [==============================] - 1s 80ms/step - loss: 0.0665 - accuracy: 0.9792 - val_loss: 0.0094 - val_accuracy: 1.0000\n",
            "Epoch 43/50\n",
            "15/15 [==============================] - 1s 80ms/step - loss: 0.0862 - accuracy: 0.9833 - val_loss: 0.0378 - val_accuracy: 0.9792\n",
            "Epoch 44/50\n",
            "15/15 [==============================] - 1s 79ms/step - loss: 0.0662 - accuracy: 0.9875 - val_loss: 0.0247 - val_accuracy: 0.9792\n",
            "Epoch 45/50\n",
            "15/15 [==============================] - 1s 79ms/step - loss: 0.0502 - accuracy: 0.9750 - val_loss: 0.0011 - val_accuracy: 1.0000\n",
            "Epoch 46/50\n",
            "15/15 [==============================] - 1s 79ms/step - loss: 0.0063 - accuracy: 1.0000 - val_loss: 0.0032 - val_accuracy: 1.0000\n",
            "Epoch 47/50\n",
            "15/15 [==============================] - 1s 80ms/step - loss: 0.0083 - accuracy: 0.9958 - val_loss: 0.0037 - val_accuracy: 1.0000\n",
            "Epoch 48/50\n",
            "15/15 [==============================] - 1s 81ms/step - loss: 0.0110 - accuracy: 0.9958 - val_loss: 0.0147 - val_accuracy: 1.0000\n",
            "Epoch 49/50\n",
            "15/15 [==============================] - 1s 81ms/step - loss: 0.0049 - accuracy: 1.0000 - val_loss: 0.0026 - val_accuracy: 1.0000\n",
            "Epoch 50/50\n",
            "15/15 [==============================] - 1s 82ms/step - loss: 8.5836e-04 - accuracy: 1.0000 - val_loss: 6.4561e-04 - val_accuracy: 1.0000\n"
          ],
          "name": "stdout"
        }
      ]
    },
    {
      "cell_type": "code",
      "metadata": {
        "colab": {
          "base_uri": "https://localhost:8080/",
          "height": 544
        },
        "id": "IvxmmGqIcDb8",
        "outputId": "32499223-cd29-4ef8-c2b3-8536633b70f8"
      },
      "source": [
        "acc = history.history['accuracy']\n",
        "val_acc = history.history['val_accuracy']\n",
        "loss = history.history['loss']\n",
        "val_loss = history.history['val_loss']\n",
        "epochs = range(1, len(acc) + 1)\n",
        "#Train and validation accuracy\n",
        "plt.plot(epochs, acc, 'b', label='Training accuracy')\n",
        "plt.plot(epochs, val_acc, 'r', label='Validation accuracy')\n",
        "plt.title('Training and Validation accuracy')\n",
        "plt.legend()\n",
        "plt.figure()\n",
        "#Train and validation loss\n",
        "plt.plot(epochs, loss, 'b', label='Training loss')\n",
        "plt.plot(epochs, val_loss, 'r', label='Validation loss')\n",
        "plt.title('Training and Validation loss')\n",
        "plt.legend()\n",
        "plt.show()\n"
      ],
      "execution_count": 116,
      "outputs": [
        {
          "output_type": "display_data",
          "data": {
            "image/png": "[encoded data removed]",
            "text/plain": [
              "<Figure size 432x288 with 1 Axes>"
            ]
          },
          "metadata": {
            "tags": [],
            "needs_background": "light"
          }
        },
        {
          "output_type": "display_data",
          "data": {
            "image/png": "[encoded data removed]",
            "text/plain": [
              "<Figure size 432x288 with 1 Axes>"
            ]
          },
          "metadata": {
            "tags": [],
            "needs_background": "light"
          }
        }
      ]
    },
    {
      "cell_type": "markdown",
      "metadata": {
        "id": "HZv41ASQUpWl"
      },
      "source": [
        "###Rodando Validação"
      ]
    },
    {
      "cell_type": "code",
      "metadata": {
        "id": "lzPb6pi4UtTp"
      },
      "source": [
        "from keras.models import load_model"
      ],
      "execution_count": 159,
      "outputs": []
    },
    {
      "cell_type": "code",
      "metadata": {
        "id": "HPDtKnRdUwz5"
      },
      "source": [
        "model=load_model('modelo.h5')"
      ],
      "execution_count": 160,
      "outputs": []
    },
    {
      "cell_type": "code",
      "metadata": {
        "id": "yNvdYljeU8dk"
      },
      "source": [
        "teste_dir = \"/content/drive/MyDrive/tcc/arquivos/test2\""
      ],
      "execution_count": 161,
      "outputs": []
    },
    {
      "cell_type": "code",
      "metadata": {
        "colab": {
          "base_uri": "https://localhost:8080/"
        },
        "id": "yAuqBmXJswcu",
        "outputId": "20045a9d-8bb4-4028-afa5-f774578cccd6"
      },
      "source": [
        "os.listdir(teste_dir)"
      ],
      "execution_count": 162,
      "outputs": [
        {
          "output_type": "execute_result",
          "data": {
            "text/plain": [
              "['IPE_AMARELO', 'GUARITA', 'CARAIBA']"
            ]
          },
          "metadata": {
            "tags": []
          },
          "execution_count": 162
        }
      ]
    },
    {
      "cell_type": "code",
      "metadata": {
        "id": "-BDUNrwEU3CX"
      },
      "source": [
        "teste_img = []\n",
        "for teste in os.listdir(train_dir):\n",
        "  train_muda = [teste_dir+\"/\"+teste+\"/\"+img for img in os.listdir(teste_dir+\"/\"+teste)]\n",
        "  teste_img += train_muda"
      ],
      "execution_count": 163,
      "outputs": []
    },
    {
      "cell_type": "code",
      "metadata": {
        "colab": {
          "base_uri": "https://localhost:8080/"
        },
        "id": "k_70OpbcV-z5",
        "outputId": "0836c58c-8d7f-4d1b-8fca-2a5a1489c521"
      },
      "source": [
        "for img in teste_img:\n",
        "  print(img)"
      ],
      "execution_count": 164,
      "outputs": [
        {
          "output_type": "stream",
          "text": [
            "/content/drive/MyDrive/tcc/arquivos/test2/CARAIBA/IMG_3758.JPG\n",
            "/content/drive/MyDrive/tcc/arquivos/test2/CARAIBA/IMG_3757.JPG\n",
            "/content/drive/MyDrive/tcc/arquivos/test2/CARAIBA/IMG_3682.JPG\n",
            "/content/drive/MyDrive/tcc/arquivos/test2/CARAIBA/IMG_3664.JPG\n",
            "/content/drive/MyDrive/tcc/arquivos/test2/CARAIBA/IMG_3686.JPG\n",
            "/content/drive/MyDrive/tcc/arquivos/test2/IPE_AMARELO/IMG_3755.JPG\n",
            "/content/drive/MyDrive/tcc/arquivos/test2/IPE_AMARELO/IMG_3432.JPG\n",
            "/content/drive/MyDrive/tcc/arquivos/test2/IPE_AMARELO/IMG_3754.JPG\n",
            "/content/drive/MyDrive/tcc/arquivos/test2/IPE_AMARELO/IMG_3466.JPG\n",
            "/content/drive/MyDrive/tcc/arquivos/test2/IPE_AMARELO/IMG_3473.JPG\n",
            "/content/drive/MyDrive/tcc/arquivos/test2/IPE_AMARELO/IMG_3464.JPG\n",
            "/content/drive/MyDrive/tcc/arquivos/test2/IPE_AMARELO/IMG_3468.JPG\n",
            "/content/drive/MyDrive/tcc/arquivos/test2/IPE_AMARELO/IMG_3465.JPG\n",
            "/content/drive/MyDrive/tcc/arquivos/test2/IPE_AMARELO/IMG_3472.JPG\n",
            "/content/drive/MyDrive/tcc/arquivos/test2/IPE_AMARELO/IMG_3471.JPG\n",
            "/content/drive/MyDrive/tcc/arquivos/test2/IPE_AMARELO/IMG_3470.JPG\n",
            "/content/drive/MyDrive/tcc/arquivos/test2/IPE_AMARELO/IMG_3469.JPG\n",
            "/content/drive/MyDrive/tcc/arquivos/test2/IPE_AMARELO/IMG_3467.JPG\n",
            "/content/drive/MyDrive/tcc/arquivos/test2/GUARITA/IMG_3621.JPG\n",
            "/content/drive/MyDrive/tcc/arquivos/test2/GUARITA/IMG_3622.JPG\n",
            "/content/drive/MyDrive/tcc/arquivos/test2/GUARITA/IMG_3623.JPG\n",
            "/content/drive/MyDrive/tcc/arquivos/test2/GUARITA/IMG_3748.JPG\n",
            "/content/drive/MyDrive/tcc/arquivos/test2/GUARITA/IMG_3747.JPG\n",
            "/content/drive/MyDrive/tcc/arquivos/test2/GUARITA/IMG_3746.JPG\n"
          ],
          "name": "stdout"
        }
      ]
    },
    {
      "cell_type": "code",
      "metadata": {
        "id": "6c9_tJyiWOpu"
      },
      "source": [
        "ImagensParaAvaliar = len(teste_img)\n",
        "X_test, y_test = read_and_process_image(teste_img) #Y_test in this case will be empty.\n",
        "x = np.array(X_test)\n",
        "test_datagen = ImageDataGenerator(rescale=1./255)\n",
        "text_labels = []"
      ],
      "execution_count": 172,
      "outputs": []
    },
    {
      "cell_type": "code",
      "metadata": {
        "id": "lPBZvO-pY96i"
      },
      "source": [
        "mudas = ['CARAIBA','GUARITA','IPE_AMARELO']"
      ],
      "execution_count": 167,
      "outputs": []
    },
    {
      "cell_type": "code",
      "metadata": {
        "colab": {
          "base_uri": "https://localhost:8080/"
        },
        "id": "uObRsLP7uvWS",
        "outputId": "29d67dd2-11ab-4a70-92dc-a537d5d8fb9d"
      },
      "source": [
        "columns = 2\n",
        "Ytest = np.array(y_test)\n",
        "i=0\n",
        "count=0\n",
        "for batch in test_datagen.flow(x, batch_size=1):\n",
        "    predictions = model.predict(batch,batch_size=16)\n",
        "    pred = np.argmax(predictions, axis=1)\n",
        "    print(pred[0]==Ytest[i])\n",
        "    print('--------------------')\n",
        "    i += 1\n",
        "    if i % ImagensParaAvaliar == 0:\n",
        "        break\n"
      ],
      "execution_count": 173,
      "outputs": [
        {
          "output_type": "stream",
          "text": [
            "False\n",
            "--------------------\n",
            "False\n",
            "--------------------\n",
            "True\n",
            "--------------------\n",
            "False\n",
            "--------------------\n",
            "False\n",
            "--------------------\n",
            "False\n",
            "--------------------\n",
            "True\n",
            "--------------------\n",
            "False\n",
            "--------------------\n",
            "True\n",
            "--------------------\n",
            "False\n",
            "--------------------\n",
            "False\n",
            "--------------------\n",
            "True\n",
            "--------------------\n",
            "False\n",
            "--------------------\n",
            "True\n",
            "--------------------\n",
            "False\n",
            "--------------------\n",
            "True\n",
            "--------------------\n",
            "True\n",
            "--------------------\n",
            "False\n",
            "--------------------\n",
            "False\n",
            "--------------------\n",
            "False\n",
            "--------------------\n",
            "False\n",
            "--------------------\n",
            "False\n",
            "--------------------\n",
            "True\n",
            "--------------------\n",
            "True\n",
            "--------------------\n"
          ],
          "name": "stdout"
        }
      ]
    }
  ]
}